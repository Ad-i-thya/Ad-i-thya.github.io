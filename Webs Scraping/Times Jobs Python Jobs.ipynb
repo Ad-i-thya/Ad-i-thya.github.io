{
 "cells": [
  {
   "cell_type": "code",
   "execution_count": 4,
   "id": "6d6b7aa4",
   "metadata": {},
   "outputs": [],
   "source": [
    "from bs4 import BeautifulSoup"
   ]
  },
  {
   "cell_type": "code",
   "execution_count": 5,
   "id": "d90b7e71",
   "metadata": {},
   "outputs": [],
   "source": [
    "import requests\n",
    "import time"
   ]
  },
  {
   "cell_type": "code",
   "execution_count": null,
   "id": "257318a2",
   "metadata": {},
   "outputs": [],
   "source": [
    "print(\"Enter unfamilar skills\")\n",
    "unfamiliar_skills = input(\">\")\n",
    "print(f'Filtering out unfamiliar skills {unfamiliar_skills}')\n",
    "\n",
    "def find_jobs():    \n",
    "    html_text = requests.get('https://www.timesjobs.com/candidate/job-search.html?searchType=personalizedSearch&from=submit&txtKeywords=Python&txtLocation=').text\n",
    "\n",
    "    soup = BeautifulSoup(html_text, 'lxml')\n",
    "    jobs = soup.find_all('li', class_ = 'clearfix job-bx wht-shd-bx')\n",
    "\n",
    "    for index, job in enumerate(jobs):\n",
    "        published_date = job.find('span', class_ = 'sim-posted').span.text\n",
    "        if 'few' in published_date:\n",
    "            company_name = job.find('h3', class_ = 'joblist-comp-name').text.replace(\" \", \"\")\n",
    "            skills = job.find('span', class_ = 'srp-skills').text.replace(\" \", '')\n",
    "            more_info = job.header.h2.a['href']\n",
    "            if unfamiliar_skills not in skills:\n",
    "                with open(f'posts/{index}.txt', 'w') as f:\n",
    "                    f.write(f'Company Name: {company_name.strip()} \\n')\n",
    "                    f.write(f'Required Skills: {skills.strip()} \\n')\n",
    "                    f.write(f'More Info: {more_info}')\n",
    "                print(f'File Saved {index}')\n",
    "                \n",
    "if __name__ == '__main__':\n",
    "    while True:\n",
    "        find_jobs()\n",
    "        time.wait = 10\n",
    "        print(f'Waiting {time.wait} minutes...')\n",
    "        time.sleep(time.wait*60)"
   ]
  },
  {
   "cell_type": "code",
   "execution_count": null,
   "id": "30577ed4",
   "metadata": {},
   "outputs": [],
   "source": []
  }
 ],
 "metadata": {
  "kernelspec": {
   "display_name": "Python 3 (ipykernel)",
   "language": "python",
   "name": "python3"
  },
  "language_info": {
   "codemirror_mode": {
    "name": "ipython",
    "version": 3
   },
   "file_extension": ".py",
   "mimetype": "text/x-python",
   "name": "python",
   "nbconvert_exporter": "python",
   "pygments_lexer": "ipython3",
   "version": "3.9.12"
  }
 },
 "nbformat": 4,
 "nbformat_minor": 5
}
